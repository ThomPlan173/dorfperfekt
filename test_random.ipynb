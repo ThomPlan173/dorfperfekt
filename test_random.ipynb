{
 "cells": [
  {
   "cell_type": "code",
   "execution_count": 235,
   "metadata": {},
   "outputs": [],
   "source": [
    "import random\n",
    "from dorfperfekt.tile import *\n",
    "from dorfperfekt.tilemap import InvalidTilePlacementError, TileMap"
   ]
  },
  {
   "cell_type": "code",
   "execution_count": 236,
   "metadata": {},
   "outputs": [],
   "source": [
    "def all_moves_possible(tilemap, tile):\n",
    "    moves = []  # Liste des mouvs valides\n",
    "\n",
    "    for pos in set(tilemap.open):  # POur chaque case libre\n",
    "        # print(pos)\n",
    "        for ori in range(6):  # Test chaque orientation\n",
    "            rotated_tile = terrains2tile(tile.terrains[ori:] + tile.terrains[:ori])\n",
    "            is_valid = True \n",
    "\n",
    "            try:\n",
    "                tilemap[pos] = rotated_tile  \n",
    "                \n",
    "            except InvalidTilePlacementError:\n",
    "                # Erreur = invalid\n",
    "                is_valid = False\n",
    "            \n",
    "            finally:\n",
    "                # Retire la tuile tempo\n",
    "                if pos in tilemap:\n",
    "                    del tilemap[pos]\n",
    "            \n",
    "            if is_valid:\n",
    "                moves.append((pos, ori))\n",
    "\n",
    "    return moves\n"
   ]
  },
  {
   "cell_type": "code",
   "execution_count": 237,
   "metadata": {},
   "outputs": [],
   "source": [
    "\n",
    "\n",
    "def random_tile_placement(tilemap, tile):\n",
    "    # Obtenir toutes les positions et orientations possibles\n",
    "    valid_moves = all_moves_possible(tilemap, tile)\n",
    "\n",
    "    # Si aucun mouvement n'est possible, retourner None\n",
    "    if not valid_moves:\n",
    "        return None\n",
    "\n",
    "    # Sélectionner un mouvement au hasard\n",
    "    chosen_move = random.choice(valid_moves)\n",
    "\n",
    "    # Retourner la position et orientation \n",
    "    return chosen_move\n"
   ]
  },
  {
   "cell_type": "code",
   "execution_count": 238,
   "metadata": {},
   "outputs": [],
   "source": [
    "def place_tile_with_rotation(tilemap, tile, move):\n",
    "    \n",
    "    pos, rotation = move  # Extraire position et rotation\n",
    "\n",
    "    # Appliquer la rotation sur les terrains de la tuile\n",
    "    rotated_tile = terrains2tile(tile.terrains[rotation:] + tile.terrains[:rotation])\n",
    "\n",
    "    # Placer la tuile dans le tilemap\n",
    "    tilemap[pos] = rotated_tile\n"
   ]
  },
  {
   "cell_type": "code",
   "execution_count": 239,
   "metadata": {},
   "outputs": [
    {
     "name": "stdout",
     "output_type": "stream",
     "text": [
      "((1, 1), 2)\n",
      "WWWWGW\n"
     ]
    }
   ],
   "source": [
    "tilemap = TileMap()\n",
    "\n",
    "tile1test = string2tile(\"g\")\n",
    "tilemap.__setitem__((1,0),tile1test)\n",
    "tile2test = string2tile(\"g\")\n",
    "tilemap.__setitem__((-1,0),tile2test)\n",
    "\n",
    "tile3test = string2tile(\"gwwwww\")\n",
    "move = random_tile_placement(tilemap,tile3test)\n",
    "print(move)\n",
    "a,_ = move\n",
    "place_tile_with_rotation(tilemap, tile3test, move)\n",
    "print(tile2string(tilemap.__getitem__(a)))\n",
    "tilemap.write_file(\"random.txt\")\n",
    "\n"
   ]
  }
 ],
 "metadata": {
  "kernelspec": {
   "display_name": "Python 3",
   "language": "python",
   "name": "python3"
  },
  "language_info": {
   "codemirror_mode": {
    "name": "ipython",
    "version": 3
   },
   "file_extension": ".py",
   "mimetype": "text/x-python",
   "name": "python",
   "nbconvert_exporter": "python",
   "pygments_lexer": "ipython3",
   "version": "3.10.10"
  }
 },
 "nbformat": 4,
 "nbformat_minor": 2
}
