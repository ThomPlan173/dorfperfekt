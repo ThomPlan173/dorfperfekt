{
 "cells": [
  {
   "cell_type": "code",
   "execution_count": 212,
   "metadata": {},
   "outputs": [],
   "source": [
    "import random\n",
    "from dorfperfekt.tile import *\n",
    "from dorfperfekt.tilemap import InvalidTilePlacementError, TileMap"
   ]
  },
  {
   "cell_type": "code",
   "execution_count": 213,
   "metadata": {},
   "outputs": [],
   "source": [
    "# # Fonction pour tester le placement aléatoire des tuiles avec rotation\n",
    "# def test_random_placement(tilemap, tiles):\n",
    "\n",
    "#     for tile in tiles:\n",
    "#         # Trouver les positions disponibles sur le TileMap\n",
    "#         available_positions = list(tilemap.open)\n",
    "#         print(f\"Positions disponibles : {available_positions}\")\n",
    "        \n",
    "#         if not available_positions:\n",
    "#             print(\"Aucune position disponible sur le TileMap.\")\n",
    "#             break\n",
    "\n",
    "#         # Choisir une position aléatoire parmi les positions disponibles\n",
    "#         pos = random.choice(available_positions)\n",
    "#         print(f\"Position choisie : {pos}\")\n",
    "\n",
    "#         ori = 0\n",
    "#         placed = False\n",
    "#         while ori < 6 and not placed:  \n",
    "#             rotated_tile = terrains2tile(tile.terrains[ori: ] + tile.terrains[: ori])\n",
    "\n",
    "#             try:\n",
    "#                 tilemap.__setitem__(pos,rotated_tile)\n",
    "#                 print(f\"Pièce placée {tile2string(rotated_tile)}, position {pos}, ori {ori}\")\n",
    "#                 t = tilemap.__getitem__(pos)\n",
    "#                 placed = True\n",
    "#             except InvalidTilePlacementError:\n",
    "#                 print(f\"Plac. Invalide pour {tile2string(rotated_tile)}, position {pos}, ori {ori}.\")\n",
    "#                 ori += 1\n",
    "#                 continue \n",
    "            \n",
    "#         if not placed:\n",
    "#             print(f\"Impossible de placer la tuile à la position {pos} après avoir testé toutes les orientations.\")\n",
    "#             continue\n",
    "#     return 0"
   ]
  },
  {
   "cell_type": "code",
   "execution_count": 214,
   "metadata": {},
   "outputs": [],
   "source": [
    "def all_moves(tilemap, tile):\n",
    "    moves = []  # Liste des mouvs valides\n",
    "\n",
    "    for pos in set(tilemap.open):  # POur chaque case libre\n",
    "        # print(pos)\n",
    "        for ori in range(6):  # Test chaque orientation\n",
    "            rotated_tile = terrains2tile(tile.terrains[ori:] + tile.terrains[:ori])\n",
    "            is_valid = True \n",
    "\n",
    "            try:\n",
    "                tilemap[pos] = rotated_tile  \n",
    "                \n",
    "            except InvalidTilePlacementError:\n",
    "                # Erreur = invalid\n",
    "                is_valid = False\n",
    "            \n",
    "            finally:\n",
    "                # Retire la tuile tempo\n",
    "                if pos in tilemap:\n",
    "                    del tilemap[pos]\n",
    "            \n",
    "            if is_valid:\n",
    "                moves.append((pos, ori))\n",
    "\n",
    "    return moves\n"
   ]
  },
  {
   "cell_type": "code",
   "execution_count": 215,
   "metadata": {},
   "outputs": [
    {
     "name": "stdout",
     "output_type": "stream",
     "text": [
      "(0, 1) 0\n",
      "(0, 1) 2\n",
      "(0, 1) 3\n",
      "(0, 1) 4\n",
      "(0, 1) 5\n",
      "(-1, 0) 0\n",
      "(-1, 0) 1\n",
      "(-1, 0) 2\n",
      "(-1, 0) 3\n",
      "(-1, 0) 4\n",
      "(1, 0) 0\n",
      "(1, 0) 1\n",
      "(1, 0) 3\n",
      "(1, 0) 4\n",
      "(1, 0) 5\n",
      "(-1, 1) 1\n",
      "(-1, 1) 2\n",
      "(-1, 1) 3\n",
      "(-1, 1) 4\n",
      "(-1, 1) 5\n",
      "(0, -1) 0\n",
      "(0, -1) 1\n",
      "(0, -1) 2\n",
      "(0, -1) 3\n",
      "(0, -1) 5\n",
      "(1, -1) 0\n",
      "(1, -1) 1\n",
      "(1, -1) 2\n",
      "(1, -1) 4\n",
      "(1, -1) 5\n",
      "30\n"
     ]
    }
   ],
   "source": [
    "\n",
    "tilemap = TileMap() \n",
    "tile = string2tile(\"gggggw\") # test avec juste 1 Grass et 5 Water\n",
    "moves = all_moves(tilemap,tile)\n",
    "\n",
    "for tile, ori in moves:\n",
    "    print(tile, ori)\n",
    "\n",
    "print(len(moves))\n"
   ]
  }
 ],
 "metadata": {
  "kernelspec": {
   "display_name": "Python 3",
   "language": "python",
   "name": "python3"
  },
  "language_info": {
   "codemirror_mode": {
    "name": "ipython",
    "version": 3
   },
   "file_extension": ".py",
   "mimetype": "text/x-python",
   "name": "python",
   "nbconvert_exporter": "python",
   "pygments_lexer": "ipython3",
   "version": "3.10.10"
  }
 },
 "nbformat": 4,
 "nbformat_minor": 2
}
