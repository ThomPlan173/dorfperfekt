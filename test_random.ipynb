{
 "cells": [
  {
   "cell_type": "code",
   "execution_count": 240,
   "metadata": {},
   "outputs": [],
   "source": [
    "import random\n",
    "from dorfperfekt.tile import *\n",
    "from dorfperfekt.tilemap import InvalidTilePlacementError, TileMap"
   ]
  },
  {
   "cell_type": "code",
   "execution_count": 241,
   "metadata": {},
   "outputs": [],
   "source": [
    "def all_moves_possible(tilemap, tile):\n",
    "    moves = []  # Liste des mouvs valides\n",
    "\n",
    "    for pos in set(tilemap.open):  # POur chaque case libre\n",
    "        # print(pos)\n",
    "        for ori in range(6):  # Test chaque orientation\n",
    "            rotated_tile = terrains2tile(tile.terrains[ori:] + tile.terrains[:ori])\n",
    "            is_valid = True \n",
    "\n",
    "            try:\n",
    "                tilemap[pos] = rotated_tile  \n",
    "                \n",
    "            except InvalidTilePlacementError:\n",
    "                # Erreur = invalid\n",
    "                is_valid = False\n",
    "            \n",
    "            finally:\n",
    "                # Retire la tuile tempo\n",
    "                if pos in tilemap:\n",
    "                    del tilemap[pos]\n",
    "            \n",
    "            if is_valid:\n",
    "                moves.append((pos, ori))\n",
    "\n",
    "    return moves\n"
   ]
  },
  {
   "cell_type": "code",
   "execution_count": 242,
   "metadata": {},
   "outputs": [],
   "source": [
    "\n",
    "\n",
    "def random_tile_placement(tilemap, tile):\n",
    "    # Obtenir toutes les positions et orientations possibles\n",
    "    valid_moves = all_moves_possible(tilemap, tile)\n",
    "\n",
    "    # Si aucun mouvement n'est possible, retourner None\n",
    "    if not valid_moves:\n",
    "        return None\n",
    "\n",
    "    # Sélectionner un mouvement au hasard\n",
    "    chosen_move = random.choice(valid_moves)\n",
    "\n",
    "    # Retourner la position et orientation \n",
    "    return chosen_move\n"
   ]
  },
  {
   "cell_type": "code",
   "execution_count": 243,
   "metadata": {},
   "outputs": [],
   "source": [
    "def place_tile_with_rotation(tilemap, tile, move):\n",
    "    \n",
    "    pos, rotation = move  # Extraire position et rotation\n",
    "\n",
    "    # Appliquer la rotation sur les terrains de la tuile\n",
    "    rotated_tile = terrains2tile(tile.terrains[rotation:] + tile.terrains[:rotation])\n",
    "\n",
    "    # Placer la tuile dans le tilemap\n",
    "    tilemap[pos] = rotated_tile\n"
   ]
  },
  {
   "cell_type": "code",
   "execution_count": 244,
   "metadata": {},
   "outputs": [],
   "source": [
    "import random\n",
    "\n",
    "def place_tiles_randomly(tilemap, tiles):\n",
    "    \n",
    "    for tile in tiles:\n",
    "        # Trouver tous les mouvements possibles pour la tuile\n",
    "        possible_moves = all_moves_possible(tilemap, tile)\n",
    "        \n",
    "        if not possible_moves:\n",
    "            print(\"Aucun mouvement possible pour cette tuile.\")\n",
    "            continue\n",
    "        \n",
    "        move = random.choice(possible_moves)\n",
    "        print(f\"Tuile placée en {move}\")\n",
    "\n",
    "        place_tile_with_rotation(tilemap, tile, move)\n",
    "    \n",
    "    return tilemap\n"
   ]
  },
  {
   "cell_type": "code",
   "execution_count": null,
   "metadata": {},
   "outputs": [
    {
     "name": "stdout",
     "output_type": "stream",
     "text": [
      "Tuile placée en ((0, -1), 1)\n",
      "Tuile placée en ((1, -1), 5)\n",
      "Tuile placée en ((2, -2), 5)\n",
      "Tuile placée en ((-1, -1), 4)\n",
      "Tuile placée en ((3, -2), 5)\n",
      "Tilemap final : <dorfperfekt.tilemap.TileMap object at 0x000001DC98E857B0>\n"
     ]
    }
   ],
   "source": [
    "tilemap = TileMap()\n",
    "\n",
    "tiles_example = [\n",
    "    string2tile(\"gggggg\"),\n",
    "    string2tile(\"ggddgg\"),\n",
    "    string2tile(\"wggwgg\"),\n",
    "    string2tile(\"ddgggg\"),\n",
    "    string2tile(\"wggwgg\"),\n",
    "]\n",
    "\n",
    "# Placer les tuiles\n",
    "tilemap = place_tiles_randomly(tilemap, tiles_example)\n",
    "\n",
    "# Résultat\n",
    "tilemap.write_file(\"random.txt\")\n",
    "\n"
   ]
  }
 ],
 "metadata": {
  "kernelspec": {
   "display_name": "Python 3",
   "language": "python",
   "name": "python3"
  },
  "language_info": {
   "codemirror_mode": {
    "name": "ipython",
    "version": 3
   },
   "file_extension": ".py",
   "mimetype": "text/x-python",
   "name": "python",
   "nbconvert_exporter": "python",
   "pygments_lexer": "ipython3",
   "version": "3.10.10"
  }
 },
 "nbformat": 4,
 "nbformat_minor": 2
}
