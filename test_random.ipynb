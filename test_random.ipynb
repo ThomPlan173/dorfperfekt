{
 "cells": [
  {
   "cell_type": "code",
   "execution_count": 77,
   "metadata": {},
   "outputs": [],
   "source": [
    "import random\n",
    "from dorfperfekt.tile import string2tile, terrains2tile, tile2string, validate_terrains, Terrain\n",
    "from dorfperfekt.tilemap import InvalidTilePlacementError, TileMap"
   ]
  },
  {
   "cell_type": "code",
   "execution_count": 78,
   "metadata": {},
   "outputs": [],
   "source": [
    "\n",
    "\n",
    "# Fonction pour tester le placement aléatoire des tuiles avec rotation\n",
    "def test_random_placement(tilemap, tiles):\n",
    "\n",
    "    for tile in tiles:\n",
    "        # Trouver les positions disponibles sur le TileMap\n",
    "        available_positions = list(tilemap.open)\n",
    "        print(f\"Positions disponibles : {available_positions}\")\n",
    "        \n",
    "        if not available_positions:\n",
    "            print(\"Aucune position disponible sur le TileMap.\")\n",
    "            break\n",
    "\n",
    "        # Choisir une position aléatoire parmi les positions disponibles\n",
    "        pos = random.choice(available_positions)\n",
    "        print(f\"Position choisie : {pos}\")\n",
    "\n",
    "        ori = 0\n",
    "        placed = False\n",
    "        while ori < 6 and not placed:  \n",
    "            rotated_tile = terrains2tile(tile.terrains[ori: ] + tile.terrains[: ori])\n",
    "\n",
    "            try:\n",
    "                tilemap.__setitem__(pos,rotated_tile)\n",
    "                print(f\"Pièce placée {tile2string(rotated_tile)}, position {pos}, ori {ori}\")\n",
    "                t = tilemap.__getitem__(pos)\n",
    "                placed = True\n",
    "            except InvalidTilePlacementError:\n",
    "                print(f\"Plac. Invalide pour {tile2string(rotated_tile)}, position {pos}, ori {ori}.\")\n",
    "                ori += 1\n",
    "                continue \n",
    "            \n",
    "        if not placed:\n",
    "            print(f\"Impossible de placer la tuile à la position {pos} après avoir testé toutes les orientations.\")\n",
    "            continue\n",
    "    return 0"
   ]
  },
  {
   "cell_type": "code",
   "execution_count": 79,
   "metadata": {},
   "outputs": [],
   "source": [
    "def all_moves(tilemap):\n",
    "\n",
    "    moves = []\n",
    "\n",
    "    # Parcourir chaque position ouverte\n",
    "    for pos in tilemap.open:\n",
    "        # Ajouter toutes les orientations possibles (de 0 à 5)\n",
    "        for ori in range(6):\n",
    "            moves.append((pos, ori))\n",
    "\n",
    "    return moves\n"
   ]
  },
  {
   "cell_type": "code",
   "execution_count": 80,
   "metadata": {},
   "outputs": [
    {
     "name": "stdout",
     "output_type": "stream",
     "text": [
      "[((0, 1), 0), ((0, 1), 1), ((0, 1), 2), ((0, 1), 3), ((0, 1), 4), ((0, 1), 5), ((-1, 1), 0), ((-1, 1), 1), ((-1, 1), 2), ((-1, 1), 3), ((-1, 1), 4), ((-1, 1), 5), ((1, -1), 0), ((1, -1), 1), ((1, -1), 2), ((1, -1), 3), ((1, -1), 4), ((1, -1), 5), ((-1, 0), 0), ((-1, 0), 1), ((-1, 0), 2), ((-1, 0), 3), ((-1, 0), 4), ((-1, 0), 5), ((1, 0), 0), ((1, 0), 1), ((1, 0), 2), ((1, 0), 3), ((1, 0), 4), ((1, 0), 5), ((0, -1), 0), ((0, -1), 1), ((0, -1), 2), ((0, -1), 3), ((0, -1), 4), ((0, -1), 5)]\n"
     ]
    }
   ],
   "source": [
    "tiles_example = [\n",
    "    string2tile(\"wwwgww\"),\n",
    "]\n",
    "tilemap = TileMap() \n",
    "tile = string2tile(\"wwwgww\")\n",
    "moves = all_moves(tilemap)\n",
    "print(moves)"
   ]
  }
 ],
 "metadata": {
  "kernelspec": {
   "display_name": "Python 3",
   "language": "python",
   "name": "python3"
  },
  "language_info": {
   "codemirror_mode": {
    "name": "ipython",
    "version": 3
   },
   "file_extension": ".py",
   "mimetype": "text/x-python",
   "name": "python",
   "nbconvert_exporter": "python",
   "pygments_lexer": "ipython3",
   "version": "3.10.10"
  }
 },
 "nbformat": 4,
 "nbformat_minor": 2
}
